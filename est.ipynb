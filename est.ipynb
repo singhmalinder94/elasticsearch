{
 "cells": [
  {
   "cell_type": "markdown",
   "metadata": {},
   "source": [
    "# Importing Libraries"
   ]
  },
  {
   "cell_type": "code",
   "execution_count": 1,
   "metadata": {},
   "outputs": [
    {
     "name": "stdout",
     "output_type": "stream",
     "text": [
      "Requirement already satisfied: elasticsearch in /opt/anaconda3/lib/python3.7/site-packages (7.12.0)\n",
      "Requirement already satisfied: urllib3<2,>=1.21.1 in /opt/anaconda3/lib/python3.7/site-packages (from elasticsearch) (1.24.2)\n",
      "Requirement already satisfied: certifi in /opt/anaconda3/lib/python3.7/site-packages (from elasticsearch) (2019.9.11)\n",
      "Note: you may need to restart the kernel to use updated packages.\n"
     ]
    }
   ],
   "source": [
    "pip install elasticsearch"
   ]
  },
  {
   "cell_type": "code",
   "execution_count": 2,
   "metadata": {},
   "outputs": [],
   "source": [
    "import json\n",
    "import logging\n",
    "from pprint import pprint\n",
    "from time import sleep\n",
    "\n",
    "import requests\n",
    "from bs4 import BeautifulSoup\n",
    "from elasticsearch import Elasticsearch"
   ]
  },
  {
   "cell_type": "code",
   "execution_count": 3,
   "metadata": {},
   "outputs": [],
   "source": [
    "def connect_elasticsearch():\n",
    "    \"\"\" connect and check the elasticsearch connection\n",
    "    \"\"\"\n",
    "    _es = None\n",
    "    _es = Elasticsearch([{'host': 'localhost', 'port': 9200}])\n",
    "    if _es.ping():\n",
    "        print('Elasticsearch Connected')\n",
    "    else:\n",
    "        print('Elasticsearch could not connect!')\n",
    "    return _es"
   ]
  },
  {
   "cell_type": "code",
   "execution_count": 4,
   "metadata": {},
   "outputs": [
    {
     "name": "stdout",
     "output_type": "stream",
     "text": [
      "Elasticsearch Connected\n"
     ]
    }
   ],
   "source": [
    "es = connect_elasticsearch()"
   ]
  },
  {
   "cell_type": "markdown",
   "metadata": {},
   "source": [
    "# Indexing"
   ]
  },
  {
   "cell_type": "code",
   "execution_count": 5,
   "metadata": {},
   "outputs": [],
   "source": [
    "def create_index(es_object, index_name, settings):\n",
    "    \"\"\" To create an index\n",
    "    \"\"\"\n",
    "    created = False\n",
    "    try:\n",
    "        if not es_object.indices.exists(index_name):\n",
    "            # Ignore 400 means to ignore \"Index Already Exist\" error.\n",
    "            es_object.indices.create(index=index_name, ignore=400, body=settings)\n",
    "            print('Created Index')\n",
    "        created = True\n",
    "    except Exception as ex:\n",
    "        print(str(ex))\n",
    "    finally:\n",
    "        return created"
   ]
  },
  {
   "cell_type": "markdown",
   "metadata": {},
   "source": [
    "#### Default Model"
   ]
  },
  {
   "cell_type": "code",
   "execution_count": 6,
   "metadata": {},
   "outputs": [],
   "source": [
    "# index settings\n",
    "base_settings = {\n",
    "    \"settings\": {\n",
    "        \"number_of_shards\": 1,\n",
    "        \"number_of_replicas\": 0\n",
    "    },\n",
    "    \"mappings\": {\n",
    "        \"books\": {\n",
    "            \"dynamic\": \"strict\",\n",
    "            \"properties\": {\n",
    "                \"id\": {\n",
    "                    \"type\": \"integer\"\n",
    "                },\n",
    "                \"title\": {\n",
    "                    \"type\": \"text\"\n",
    "                },\n",
    "                \"author\": {\n",
    "                    \"type\": \"text\"\n",
    "                },\n",
    "                \"abstract\": {\n",
    "                    \"type\": \"text\"\n",
    "                },\n",
    "            }\n",
    "        }\n",
    "    }\n",
    "}\n",
    "# create_index(es, 'est_base', base_settings)"
   ]
  },
  {
   "cell_type": "markdown",
   "metadata": {},
   "source": [
    "#### BM25 Model"
   ]
  },
  {
   "cell_type": "code",
   "execution_count": 7,
   "metadata": {},
   "outputs": [],
   "source": [
    "bm25_model = {\n",
    "    \"settings\" : {\n",
    "        \"analysis\" : {\n",
    "            \"analyzer\" : {\n",
    "                \"my_analyzer\":{ \n",
    "                   \"type\":\"custom\",\n",
    "                   \"tokenizer\":\"standard\",\n",
    "                   \"filter\":[\n",
    "                      \"lowercase\"\n",
    "                   ]\n",
    "                },\n",
    "                \"my_stop_analyzer\":{ \n",
    "                   \"type\":\"custom\",\n",
    "                   \"tokenizer\":\"standard\",\n",
    "                   \"filter\":[\n",
    "                      \"lowercase\",\n",
    "                      \"english_stop\"\n",
    "                   ]\n",
    "                }\n",
    "            }\n",
    "        },\n",
    "        \"index\" : {\n",
    "            \"similarity\" : {\n",
    "                \"bm25\" : {\n",
    "                    \"type\" : \"BM25\",\n",
    "                    \"b\" : 0.75,\n",
    "                    \"k1\" : 1.2\n",
    "                }\n",
    "            }\n",
    "        }\n",
    "    },\n",
    "    \"mappings\" : {\n",
    "        \"properties\" : {\n",
    "            \"id\" : {\"type\" : \"text\"},\n",
    "            \"title\" : {\"type\" : \"text\", \"analyzer\" : \"my_analyzer\", \"search_analyzer\":\"my_stop_analyzer\", \"similarity\" : \"bm25\"},\n",
    "            \"author\" : {\"type\" : \"text\"},\n",
    "            \"abstract\" : {\"type\" : \"text\", \"analyzer\" : \"my_analyzer\", \"search_analyzer\":\"my_stop_analyzer\", \"similarity\" : \"bm25\"}\n",
    "        }\n",
    "    }\n",
    "}\n",
    "# create_index(es, 'est_bm25', bm25_model)"
   ]
  },
  {
   "cell_type": "markdown",
   "metadata": {},
   "source": [
    "#### DFR Model"
   ]
  },
  {
   "cell_type": "code",
   "execution_count": 8,
   "metadata": {},
   "outputs": [],
   "source": [
    "dfr_model = {\n",
    "    \"settings\" : {\n",
    "        \"analysis\" : {\n",
    "            \"analyzer\" : {\n",
    "                \"my_analyzer\":{ \n",
    "                   \"type\":\"custom\",\n",
    "                   \"tokenizer\":\"standard\",\n",
    "                   \"filter\":[\n",
    "                      \"lowercase\"\n",
    "                   ]\n",
    "                },\n",
    "                \"my_stop_analyzer\":{ \n",
    "                   \"type\":\"custom\",\n",
    "                   \"tokenizer\":\"standard\",\n",
    "                   \"filter\":[\n",
    "                      \"lowercase\",\n",
    "                      \"english_stop\"\n",
    "                   ]\n",
    "                }\n",
    "            }\n",
    "        },\n",
    "        \"index\" : {\n",
    "            \"similarity\" : {\n",
    "                \"dfr\" : {\n",
    "                    \"type\" : \"DFR\",\n",
    "                    \"basic_model\" : 'in',\n",
    "                    \"after_effect\" : 'b',\n",
    "                    \"normalization\" : 'no'\n",
    "                }\n",
    "            }\n",
    "        }\n",
    "    },\n",
    "    \"mappings\" : {\n",
    "        \"properties\" : {\n",
    "            \"id\" : {\"type\" : \"integer\"},\n",
    "            \"title\" : {\"type\" : \"text\", \"analyzer\" : \"my_analyzer\", \"search_analyzer\":\"my_stop_analyzer\", \"similarity\" : \"dfr\"},\n",
    "            \"author\" : {\"type\" : \"text\"},\n",
    "            \"abstract\" : {\"type\" : \"text\", \"analyzer\" : \"my_analyzer\", \"search_analyzer\":\"my_stop_analyzer\", \"similarity\" : \"dfr\"}\n",
    "        }\n",
    "    }\n",
    "}\n",
    "# create_index(es, 'est_bm25', bm25_model)"
   ]
  },
  {
   "cell_type": "markdown",
   "metadata": {},
   "source": [
    "### IB Model"
   ]
  },
  {
   "cell_type": "code",
   "execution_count": 9,
   "metadata": {},
   "outputs": [],
   "source": [
    "ib_model = {\n",
    "    \"settings\" : {\n",
    "        \"analysis\" : {\n",
    "            \"analyzer\" : {\n",
    "                \"my_analyzer\":{ \n",
    "                   \"type\":\"custom\",\n",
    "                   \"tokenizer\":\"standard\",\n",
    "                   \"filter\":[\n",
    "                      \"lowercase\"\n",
    "                   ]\n",
    "                },\n",
    "                \"my_stop_analyzer\":{ \n",
    "                   \"type\":\"custom\",\n",
    "                   \"tokenizer\":\"standard\",\n",
    "                   \"filter\":[\n",
    "                      \"lowercase\",\n",
    "                      \"english_stop\"\n",
    "                   ]\n",
    "                }\n",
    "            }\n",
    "        },\n",
    "        \"index\" : {\n",
    "            \"similarity\" : {\n",
    "                \"ib\" : {\n",
    "                    \"type\" : \"IB\",\n",
    "                    \"distribution\" : \"spl\",\n",
    "                    \"lambda\" : \"ttf\",\n",
    "                    \"normalization\" : \"z\"\n",
    "                }\n",
    "            }\n",
    "        }\n",
    "    },\n",
    "    \"mappings\" : {\n",
    "        \"properties\" : {\n",
    "            \"id\" : {\"type\" : \"integer\"},\n",
    "            \"title\" : {\"type\" : \"text\", \"analyzer\" : \"my_analyzer\", \"search_analyzer\":\"my_stop_analyzer\", \"similarity\" : \"ib\"},\n",
    "            \"author\" : {\"type\" : \"text\"},\n",
    "            \"abstract\" : {\"type\" : \"text\", \"analyzer\" : \"my_analyzer\", \"search_analyzer\":\"my_stop_analyzer\", \"similarity\" : \"ib\"}\n",
    "        }\n",
    "    }\n",
    "}\n",
    "# create_index(es, 'est_ib', ib_model)"
   ]
  },
  {
   "cell_type": "code",
   "execution_count": 10,
   "metadata": {},
   "outputs": [],
   "source": [
    "def store_record(elastic_object, index_name, record):\n",
    "    \"\"\" store documents in created indexes\n",
    "    \"\"\"\n",
    "    is_stored = True\n",
    "    try:\n",
    "        outcome = elastic_object.index(index=index_name, doc_type='books', body=record)\n",
    "        print(outcome)\n",
    "    except Exception as ex:\n",
    "        print('Error in indexing data')\n",
    "        print(str(ex))\n",
    "        is_stored = False\n",
    "    finally:\n",
    "        return is_stored"
   ]
  },
  {
   "cell_type": "code",
   "execution_count": 14,
   "metadata": {},
   "outputs": [],
   "source": [
    "def loadData():\n",
    "    \"\"\" extract and index the data\n",
    "    \"\"\"\n",
    "    with open('cisi-kaggle/CISI.ALL') as f:\n",
    "        lines = \"\"\n",
    "        for l in f.readlines():\n",
    "            lines += \"\\n\" + l.strip() if l.startswith(\".\") else \" \" + l.strip()\n",
    "        lines = lines.lstrip(\"\\n\").split(\"\\n\")\n",
    "    \n",
    "    for l in lines:\n",
    "        if l.startswith(\".I\"):\n",
    "            doc_set = {}\n",
    "            doc_id = int(l.split(\" \")[1].strip())\n",
    "            doc_set[\"id\"] = doc_id\n",
    "        elif l.startswith(\".T\"):\n",
    "            doc_set[\"title\"] = l.strip()[3:]\n",
    "        elif l.startswith(\".A\"):\n",
    "            doc_set[\"author\"] = l.strip()[3:]\n",
    "        elif l.startswith(\".W\"):\n",
    "            doc_set[\"abstract\"] = l.strip()[3:]\n",
    "        else:\n",
    "            result = json.dumps(doc_set)\n",
    "            if es is not None:\n",
    "                if create_index(es, 'est_base', base_settings):\n",
    "                    store_record(es, 'est_base', result)\n",
    "                if create_index(es, 'est_bm25', bm25_model):\n",
    "                    store_record(es, 'est_bm25', result)\n",
    "                if create_index(es, 'est_ib', ib_model):\n",
    "                    store_record(es, 'est_ib', result)\n",
    "                if create_index(es, 'est_dfr', dfr_model):\n",
    "                    store_record(es, 'est_dfr', result)\n",
    "    print('Data indexed successfully')"
   ]
  },
  {
   "cell_type": "code",
   "execution_count": 55,
   "metadata": {},
   "outputs": [],
   "source": [
    "# read the dataset and index the documents\n",
    "# UNCOMMENT TO CREATE\n",
    "# loadData()"
   ]
  },
  {
   "cell_type": "code",
   "execution_count": 12,
   "metadata": {},
   "outputs": [
    {
     "data": {
      "text/plain": [
       "{'acknowledged': True}"
      ]
     },
     "execution_count": 12,
     "metadata": {},
     "output_type": "execute_result"
    }
   ],
   "source": [
    "# To delete an existing Elasticsearch index\n",
    "# UNCOMMENT TO DELETE\n",
    "# es.indices.delete(index='est_dfr')"
   ]
  },
  {
   "cell_type": "markdown",
   "metadata": {},
   "source": [
    "# Retrieval"
   ]
  },
  {
   "cell_type": "code",
   "execution_count": 16,
   "metadata": {},
   "outputs": [],
   "source": [
    "def search(es_object, index_name, search):\n",
    "    \"\"\" search the index to display the related documents\n",
    "    \"\"\"\n",
    "    res = es_object.search(index=index_name, body=search)\n",
    "    return res"
   ]
  },
  {
   "cell_type": "markdown",
   "metadata": {},
   "source": [
    "#### **Retrieval using BM25**"
   ]
  },
  {
   "cell_type": "markdown",
   "metadata": {},
   "source": [
    "Retrieving all the books title for which the author name is 'Palmour' using BM25 model."
   ]
  },
  {
   "cell_type": "code",
   "execution_count": 17,
   "metadata": {},
   "outputs": [
    {
     "name": "stdout",
     "output_type": "stream",
     "text": [
      "{'_shards': {'failed': 0, 'skipped': 0, 'successful': 1, 'total': 1},\n",
      " 'hits': {'hits': [{'_id': '2Yc-1ngByg1E2ufPGkgR',\n",
      "                    '_index': 'est_bm25',\n",
      "                    '_score': 6.903818,\n",
      "                    '_source': {'title': 'Access to Periodical Resources'},\n",
      "                    '_type': 'books'},\n",
      "                   {'_id': 'y4c_1ngByg1E2ufPa1J6',\n",
      "                    '_index': 'est_bm25',\n",
      "                    '_score': 6.903818,\n",
      "                    '_source': {'title': 'Resources and Bibliographic Support '\n",
      "                                         'for a Nationwide Library Program '\n",
      "                                         'Final Report to the National '\n",
      "                                         'Commission for Libraries and '\n",
      "                                         'Information Science'},\n",
      "                    '_type': 'books'},\n",
      "                   {'_id': '1Yc_1ngByg1E2ufPjFOO',\n",
      "                    '_index': 'est_bm25',\n",
      "                    '_score': 6.903818,\n",
      "                    '_source': {'title': 'A Study of the Characteristics, Cost '\n",
      "                                         'and Magnitude of Interlibrary Loans '\n",
      "                                         'in Academic Libraries'},\n",
      "                    '_type': 'books'}],\n",
      "          'max_score': 6.903818,\n",
      "          'total': {'relation': 'eq', 'value': 3}},\n",
      " 'timed_out': False,\n",
      " 'took': 888}\n"
     ]
    }
   ],
   "source": [
    "# write a query to retrieve the related documents\n",
    "retrieval_index = 'est_bm25'\n",
    "\n",
    "query =  {'match_phrase': {'author': 'Palmour'}}\n",
    "search_object = {'_source': ['title'], 'query': {'match_phrase': {'author': 'Palmour'}}}\n",
    "search_results = search(es, 'est_bm25', json.dumps(search_object))\n",
    "pprint(search_results)"
   ]
  },
  {
   "cell_type": "code",
   "execution_count": 18,
   "metadata": {},
   "outputs": [
    {
     "name": "stdout",
     "output_type": "stream",
     "text": [
      "Book Title: Access to Periodical Resources\n",
      "Book Title: Resources and Bibliographic Support for a Nationwide Library Program Final Report to the National Commission for Libraries and Information Science\n",
      "Book Title: A Study of the Characteristics, Cost and Magnitude of Interlibrary Loans in Academic Libraries\n"
     ]
    }
   ],
   "source": [
    "for b in search_results['hits']['hits']:\n",
    "    print(\"Book Title: {}\".format(b['_source']['title']))"
   ]
  },
  {
   "cell_type": "markdown",
   "metadata": {},
   "source": [
    "#### **Retrieval using DFR**"
   ]
  },
  {
   "cell_type": "markdown",
   "metadata": {},
   "source": [
    "Retrieving all the books title for which the author name is 'Palmour' using DFR model."
   ]
  },
  {
   "cell_type": "code",
   "execution_count": 19,
   "metadata": {},
   "outputs": [
    {
     "name": "stdout",
     "output_type": "stream",
     "text": [
      "{'_shards': {'failed': 0, 'skipped': 0, 'successful': 1, 'total': 1},\n",
      " 'hits': {'hits': [{'_id': '2oc-1ngByg1E2ufPGkhE',\n",
      "                    '_index': 'est_dfr',\n",
      "                    '_score': 6.903818,\n",
      "                    '_source': {'title': 'Access to Periodical Resources'},\n",
      "                    '_type': 'books'},\n",
      "                   {'_id': 'zIc_1ngByg1E2ufPa1Kc',\n",
      "                    '_index': 'est_dfr',\n",
      "                    '_score': 6.903818,\n",
      "                    '_source': {'title': 'Resources and Bibliographic Support '\n",
      "                                         'for a Nationwide Library Program '\n",
      "                                         'Final Report to the National '\n",
      "                                         'Commission for Libraries and '\n",
      "                                         'Information Science'},\n",
      "                    '_type': 'books'},\n",
      "                   {'_id': '1oc_1ngByg1E2ufPjFOz',\n",
      "                    '_index': 'est_dfr',\n",
      "                    '_score': 6.903818,\n",
      "                    '_source': {'title': 'A Study of the Characteristics, Cost '\n",
      "                                         'and Magnitude of Interlibrary Loans '\n",
      "                                         'in Academic Libraries'},\n",
      "                    '_type': 'books'}],\n",
      "          'max_score': 6.903818,\n",
      "          'total': {'relation': 'eq', 'value': 3}},\n",
      " 'timed_out': False,\n",
      " 'took': 834}\n"
     ]
    }
   ],
   "source": [
    "# write a query to retrieve the related documents\n",
    "retrieval_index = 'est_dfr'\n",
    "\n",
    "query =  {'match_phrase': {'author': 'Palmour'}}\n",
    "search_object = {'_source': ['title'], 'query': {'match_phrase': {'author': 'Palmour'}}}\n",
    "search_results = search(es, retrieval_index, json.dumps(search_object))\n",
    "pprint(search_results)"
   ]
  },
  {
   "cell_type": "code",
   "execution_count": 20,
   "metadata": {},
   "outputs": [
    {
     "name": "stdout",
     "output_type": "stream",
     "text": [
      "Book Title: Access to Periodical Resources\n",
      "Book Title: Resources and Bibliographic Support for a Nationwide Library Program Final Report to the National Commission for Libraries and Information Science\n",
      "Book Title: A Study of the Characteristics, Cost and Magnitude of Interlibrary Loans in Academic Libraries\n"
     ]
    }
   ],
   "source": [
    "for b in search_results['hits']['hits']:\n",
    "    print(\"Book Title: {}\".format(b['_source']['title']))"
   ]
  },
  {
   "cell_type": "markdown",
   "metadata": {},
   "source": [
    "#### **Retrieval using IB**"
   ]
  },
  {
   "cell_type": "markdown",
   "metadata": {},
   "source": [
    "Retrieving all the books title for which the author name is 'Palmour' using IB model."
   ]
  },
  {
   "cell_type": "code",
   "execution_count": 21,
   "metadata": {},
   "outputs": [
    {
     "name": "stdout",
     "output_type": "stream",
     "text": [
      "{'_shards': {'failed': 0, 'skipped': 0, 'successful': 1, 'total': 1},\n",
      " 'hits': {'hits': [{'_id': 'Tv4gnngBYdI-tU1F124x',\n",
      "                    '_index': 'est_ib',\n",
      "                    '_score': 6.903818,\n",
      "                    '_source': {'title': 'Access to Periodical Resources'},\n",
      "                    '_type': 'books'},\n",
      "                   {'_id': 'R_4hnngBYdI-tU1FhXM1',\n",
      "                    '_index': 'est_ib',\n",
      "                    '_score': 6.903818,\n",
      "                    '_source': {'title': 'Resources and Bibliographic Support '\n",
      "                                         'for a Nationwide Library Program '\n",
      "                                         'Final Report to the National '\n",
      "                                         'Commission for Libraries and '\n",
      "                                         'Information Science'},\n",
      "                    '_type': 'books'},\n",
      "                   {'_id': 'zP4hnngBYdI-tU1FlnMh',\n",
      "                    '_index': 'est_ib',\n",
      "                    '_score': 6.903818,\n",
      "                    '_source': {'title': 'A Study of the Characteristics, Cost '\n",
      "                                         'and Magnitude of Interlibrary Loans '\n",
      "                                         'in Academic Libraries'},\n",
      "                    '_type': 'books'}],\n",
      "          'max_score': 6.903818,\n",
      "          'total': {'relation': 'eq', 'value': 3}},\n",
      " 'timed_out': False,\n",
      " 'took': 1}\n"
     ]
    }
   ],
   "source": [
    "# write a query to retrieve the related documents\n",
    "retrieval_index = 'est_ib'\n",
    "\n",
    "query =  {'match_phrase': {'author': 'Palmour'}}\n",
    "search_object = {'_source': ['title'], 'query': {'match_phrase': {'author': 'Palmour'}}}\n",
    "search_results = search(es, retrieval_index, json.dumps(search_object))\n",
    "pprint(search_results)"
   ]
  },
  {
   "cell_type": "code",
   "execution_count": 24,
   "metadata": {},
   "outputs": [
    {
     "name": "stdout",
     "output_type": "stream",
     "text": [
      "Book Title: Access to Periodical Resources\n",
      "Book Title: Resources and Bibliographic Support for a Nationwide Library Program Final Report to the National Commission for Libraries and Information Science\n",
      "Book Title: A Study of the Characteristics, Cost and Magnitude of Interlibrary Loans in Academic Libraries\n"
     ]
    }
   ],
   "source": [
    "for b in search_results['hits']['hits']:\n",
    "    print(\"Book Title: {}\".format(b['_source']['title']))"
   ]
  },
  {
   "cell_type": "markdown",
   "metadata": {},
   "source": [
    "# Evaluation"
   ]
  },
  {
   "cell_type": "markdown",
   "metadata": {},
   "source": [
    "#### **Evaluating a single query**"
   ]
  },
  {
   "cell_type": "code",
   "execution_count": 25,
   "metadata": {},
   "outputs": [],
   "source": [
    "# code to retrieve the related documents for the query being evaluated\n",
    "q = \"Image recognition and any other methods of automatically \\\n",
    "    transforming printed text into computer-ready form.\"\n",
    "\n",
    "search_object = {\"query\": { \"multi_match\": { \"query\": q, \"fields\": [\"abstract\"] }}}\n",
    "# search(es, 'est_bm25', json.dumps(search_object))"
   ]
  },
  {
   "cell_type": "markdown",
   "metadata": {},
   "source": [
    "We use rating on a scale from zero to one, which means a document with a rating of 1 and above will be considered as “relevant” by setting the \"relevant_rating_threshold\" value as 1.\n",
    "We also choose to evaluate the query only on the top 5 documents by setting the value of k as 5. This means that when those top 5 results contain one document with rating one or higher, the precision will be 1 / 5 = 0.2."
   ]
  },
  {
   "cell_type": "code",
   "execution_count": 49,
   "metadata": {},
   "outputs": [],
   "source": [
    "# name of an index\n",
    "index_ = 'est_bm25'\n",
    "\n",
    "# search request’s ID, used to group the result details later\n",
    "req_id = 'author_query'\n",
    "\n",
    "# query being evaluated\n",
    "q = \"Image recognition and any other methods of automatically \\\n",
    "    transforming printed text into computer-ready form.\"\n",
    "\n",
    "# request section\n",
    "rank_body = {\n",
    "  \"requests\": [\n",
    "    {\n",
    "      \"id\": req_id,                                  \n",
    "      \"request\": {                                              \n",
    "          \"query\": { \"multi_match\": { \"query\": q, \"fields\": [\"abstract\"] }}\n",
    "      },\n",
    "      \"ratings\": [                                              \n",
    "        { \"_index\": index_, \"_id\": 'G4c-1ngByg1E2ufP9E_e', \"rating\": 1 }\n",
    "      ]\n",
    "    }\n",
    "  ],\n",
    "   \"metric\": {\n",
    "    \"precision\": {\n",
    "      \"k\": 5,\n",
    "      \"relevant_rating_threshold\": 1,\n",
    "      \"ignore_unlabeled\": 'false'\n",
    "    }\n",
    "  }\n",
    "}"
   ]
  },
  {
   "cell_type": "markdown",
   "metadata": {},
   "source": [
    "The ranking evaluation API (rank_eval) allows you to evaluate the quality of ranked search results over a set of typical search queries. Given this set of queries and a list of manually rated documents, the rank_eval endpoint calculates and returns typical information retrieval metrics like mean reciprocal rank, precision etc. \n",
    "\n",
    "Top 5 results contain one document with rating one or higher, therefore the precision will be 1 / 5 = 0.2."
   ]
  },
  {
   "cell_type": "code",
   "execution_count": 50,
   "metadata": {},
   "outputs": [
    {
     "name": "stdout",
     "output_type": "stream",
     "text": [
      "{'details': {'author_query': {'hits': [{'hit': {'_id': 'w4c-1ngByg1E2ufP6k4d',\n",
      "                                                '_index': 'est_bm25',\n",
      "                                                '_score': 15.648968,\n",
      "                                                '_type': 'books'},\n",
      "                                        'rating': None},\n",
      "                                       {'hit': {'_id': 'XYc-1ngByg1E2ufPd0tI',\n",
      "                                                '_index': 'est_bm25',\n",
      "                                                '_score': 15.393477,\n",
      "                                                '_type': 'books'},\n",
      "                                        'rating': None},\n",
      "                                       {'hit': {'_id': 'G4c-1ngByg1E2ufP9E_e',\n",
      "                                                '_index': 'est_bm25',\n",
      "                                                '_score': 14.280847,\n",
      "                                                '_type': 'books'},\n",
      "                                        'rating': 1},\n",
      "                                       {'hit': {'_id': 'aYc-1ngByg1E2ufPLknq',\n",
      "                                                '_index': 'est_bm25',\n",
      "                                                '_score': 14.280509,\n",
      "                                                '_type': 'books'},\n",
      "                                        'rating': None},\n",
      "                                       {'hit': {'_id': 'mYc_1ngByg1E2ufPJVA8',\n",
      "                                                '_index': 'est_bm25',\n",
      "                                                '_score': 13.285198,\n",
      "                                                '_type': 'books'},\n",
      "                                        'rating': None}],\n",
      "                              'metric_details': {'precision': {'docs_retrieved': 5,\n",
      "                                                               'relevant_docs_retrieved': 1}},\n",
      "                              'metric_score': 0.2,\n",
      "                              'unrated_docs': [{'_id': 'w4c-1ngByg1E2ufP6k4d',\n",
      "                                                '_index': 'est_bm25'},\n",
      "                                               {'_id': 'XYc-1ngByg1E2ufPd0tI',\n",
      "                                                '_index': 'est_bm25'},\n",
      "                                               {'_id': 'aYc-1ngByg1E2ufPLknq',\n",
      "                                                '_index': 'est_bm25'},\n",
      "                                               {'_id': 'mYc_1ngByg1E2ufPJVA8',\n",
      "                                                '_index': 'est_bm25'}]}},\n",
      " 'failures': {},\n",
      " 'metric_score': 0.2}\n"
     ]
    }
   ],
   "source": [
    "# call ranking evaluation API with specific index and query\n",
    "pprint(es.rank_eval(index=\"est_bm25\", body=rank_body))"
   ]
  },
  {
   "cell_type": "markdown",
   "metadata": {},
   "source": [
    "#### **Bulk Evaluation**"
   ]
  },
  {
   "cell_type": "code",
   "execution_count": 28,
   "metadata": {},
   "outputs": [],
   "source": [
    "def getQueriesList():\n",
    "    \"\"\" get the bulk queries to test\n",
    "    \"\"\"\n",
    "    queries_list = {}\n",
    "    with open('cisi-kaggle/CISI.QRY') as f:\n",
    "        lines = \"\"\n",
    "        for l in f.readlines():\n",
    "            lines += \"\\n\" + l.strip() if l.startswith(\".\") else \" \" + l.strip()\n",
    "        lines = lines.lstrip(\"\\n\").split(\"\\n\")\n",
    "    for l in lines:\n",
    "        if l.startswith(\".I\"):\n",
    "            doc_set = {}\n",
    "            doc_id = int(l.split(\" \")[1].strip())\n",
    "            doc_set[\"id\"] = doc_id\n",
    "        elif l.startswith(\".W\"):\n",
    "            doc_set[\"abstract\"] = l.strip()[3:]\n",
    "            queries_list[doc_set[\"id\"]] = doc_set[\"abstract\"]\n",
    "    return queries_list"
   ]
  },
  {
   "cell_type": "code",
   "execution_count": 29,
   "metadata": {},
   "outputs": [],
   "source": [
    "def getEvaluationData():\n",
    "    \"\"\" get the evaluation data (queries and the related documents)\n",
    "    \"\"\"\n",
    "    bulkq_ = []\n",
    "    with open('cisi-kaggle/CISI2.REL') as f:\n",
    "        query_id = \"\"\n",
    "        for l in f.readlines():\n",
    "            rel_queries = {}\n",
    "            qry_id = l.lstrip(\" \").strip(\"\\n\").split(\"\\t\")[0].split(\" \")[0]\n",
    "            rel_rating = l.lstrip(\" \").strip(\"\\n\").split(\"\\t\")[1]\n",
    "            doc_id = l.lstrip(\" \").strip(\"\\n\").split(\"\\t\")[0].split(\" \")[-1]\n",
    "            if query_id == qry_id:\n",
    "                l = bulkq_[-1]\n",
    "                l['rel'].append(doc_id)\n",
    "            else:\n",
    "                rel_queries['qry_id'] = qry_id\n",
    "                rel_queries['rating'] = rel_rating\n",
    "                rel_queries['rel'] = [doc_id]\n",
    "                bulkq_.append(rel_queries)\n",
    "            query_id = qry_id\n",
    "    return bulkq_"
   ]
  },
  {
   "cell_type": "code",
   "execution_count": 30,
   "metadata": {},
   "outputs": [],
   "source": [
    "evaluation_data = getEvaluationData()\n",
    "all_queries = getQueriesList()\n",
    "\n",
    "def getQueryText(id):\n",
    "    \"\"\" get the query text\n",
    "        Args:\n",
    "            id: document id\n",
    "    \"\"\"\n",
    "    t = all_queries[id]\n",
    "    return t\n",
    "\n",
    "def getIndexId(index_model, doc_id):\n",
    "    \"\"\" get the index id\n",
    "        Args:\n",
    "            index_model: index model name\n",
    "            doc_id: document id\n",
    "    \"\"\"\n",
    "    esb = es.search(index=index_model, doc_type=\"books\", body={'query': {'match_phrase': {'id': doc_id}}})\n",
    "    return esb['hits']['hits'][0]['_id']\n",
    "    \n",
    "def getRatings(index, rel):\n",
    "    \"\"\" get the ratings list for requests\n",
    "        Args:\n",
    "            index: index model name\n",
    "            rel:  relavance documents list\n",
    "    \"\"\"\n",
    "    ratings = []\n",
    "    for i in rel:\n",
    "        ratings.append(\n",
    "            { \n",
    "                \"_index\": index, \n",
    "                \"_id\": getIndexId(index, i), \n",
    "                \"rating\": 1 \n",
    "            }\n",
    "        )\n",
    "    return ratings\n",
    "\n",
    "def get_requests(index):\n",
    "    \"\"\" create requests for evaluating the data\n",
    "        Args:\n",
    "            index: index model name\n",
    "    \"\"\"\n",
    "    requests = []\n",
    "    \n",
    "    for query in evaluation_data:\n",
    "        requests.append(\n",
    "            {\n",
    "                \"id\": query['qry_id'],\n",
    "                \"request\": {\n",
    "                    \"query\": { \n",
    "                        \"multi_match\": { \n",
    "                            \"query\": getQueryText(int(query['qry_id'])),\n",
    "                            \"fields\": [\n",
    "                                \"abstract\"\n",
    "                            ] \n",
    "                        }\n",
    "                    }\n",
    "                },\n",
    "                \"ratings\": getRatings(index, query['rel'])\n",
    "            }\n",
    "        )\n",
    "    return requests"
   ]
  },
  {
   "cell_type": "markdown",
   "metadata": {},
   "source": [
    "##### **BM25 Bulk Evaluation**"
   ]
  },
  {
   "cell_type": "code",
   "execution_count": 73,
   "metadata": {},
   "outputs": [
    {
     "name": "stdout",
     "output_type": "stream",
     "text": [
      "BM25 precision: 0.33157894736842103\n"
     ]
    }
   ],
   "source": [
    "# PRECISION\n",
    "index_ = 'est_bm25'\n",
    "bulk_requests = get_requests(index_)\n",
    "bulk_rank_body = {\n",
    "  \"requests\": bulk_requests,\n",
    "    \"metric\": {\n",
    "    \"precision\": {\n",
    "      \"k\": 5,\n",
    "      \"relevant_rating_threshold\": 1,\n",
    "      \"ignore_unlabeled\": 'false'\n",
    "    }\n",
    "  }\n",
    "}\n",
    "# call ranking evaluation API with specific index and query\n",
    "model_score = es.rank_eval(index=index_, body=bulk_rank_body)\n",
    "precision = model_score['metric_score']\n",
    "print(\"BM25 precision: {}\".format(precision))"
   ]
  },
  {
   "cell_type": "code",
   "execution_count": 74,
   "metadata": {},
   "outputs": [
    {
     "name": "stdout",
     "output_type": "stream",
     "text": [
      "BM25 mean reciprocal rank: 0.5813352454219327\n"
     ]
    }
   ],
   "source": [
    "# MEAN RECIPROCAL RANK\n",
    "index_ = 'est_bm25'\n",
    "bulk_requests = get_requests(index_)\n",
    "bulk_rank_body = {\n",
    "  \"requests\": bulk_requests,\n",
    "    \"metric\": {\n",
    "        \"mean_reciprocal_rank\": {\n",
    "          \"k\": 20,\n",
    "          \"relevant_rating_threshold\": 1\n",
    "        }\n",
    "    }\n",
    "}\n",
    "# call ranking evaluation API with specific index and query\n",
    "mrr_score = es.rank_eval(index=index_, body=bulk_rank_body)\n",
    "print(\"BM25 mean reciprocal rank: {}\".format(mrr_score['metric_score']))"
   ]
  },
  {
   "cell_type": "markdown",
   "metadata": {},
   "source": [
    "##### **DFR Bulk Evaluation**"
   ]
  },
  {
   "cell_type": "code",
   "execution_count": 75,
   "metadata": {},
   "outputs": [
    {
     "name": "stdout",
     "output_type": "stream",
     "text": [
      "DFR precision: 0.33157894736842103\n"
     ]
    }
   ],
   "source": [
    "# PRECISION\n",
    "index_ = 'est_dfr'\n",
    "bulk_requests = get_requests(index_)\n",
    "bulk_rank_body = {\n",
    "  \"requests\": bulk_requests,\n",
    "    \"metric\": {\n",
    "    \"precision\": {\n",
    "      \"k\": 5,\n",
    "      \"relevant_rating_threshold\": 1,\n",
    "      \"ignore_unlabeled\": 'false'\n",
    "    }\n",
    "  }\n",
    "}\n",
    "# call ranking evaluation API with specific index and query\n",
    "model_score = es.rank_eval(index=index_, body=bulk_rank_body)\n",
    "precision = model_score['metric_score']\n",
    "print(\"DFR precision: {}\".format(precision))"
   ]
  },
  {
   "cell_type": "code",
   "execution_count": 77,
   "metadata": {},
   "outputs": [
    {
     "name": "stdout",
     "output_type": "stream",
     "text": [
      "DFR mean reciprocal rank: 0.5813352454219327\n"
     ]
    }
   ],
   "source": [
    "# MEAN RECIPROCAL RANK\n",
    "index_ = 'est_dfr'\n",
    "bulk_requests = get_requests(index_)\n",
    "bulk_rank_body = {\n",
    "  \"requests\": bulk_requests,\n",
    "    \"metric\": {\n",
    "        \"mean_reciprocal_rank\": {\n",
    "          \"k\": 20,\n",
    "          \"relevant_rating_threshold\": 1\n",
    "        }\n",
    "    }\n",
    "}\n",
    "# call ranking evaluation API with specific index and query\n",
    "mrr_score = es.rank_eval(index=index_, body=bulk_rank_body)\n",
    "print(\"DFR mean reciprocal rank: {}\".format(mrr_score['metric_score']))"
   ]
  },
  {
   "cell_type": "markdown",
   "metadata": {},
   "source": [
    "##### **IB Bulk Evaluation**"
   ]
  },
  {
   "cell_type": "code",
   "execution_count": 78,
   "metadata": {},
   "outputs": [
    {
     "name": "stdout",
     "output_type": "stream",
     "text": [
      "IB precision: 0.33157894736842103\n"
     ]
    }
   ],
   "source": [
    "# PRECISION\n",
    "index_ = 'est_ib'\n",
    "bulk_requests = get_requests(index_)\n",
    "bulk_rank_body = {\n",
    "  \"requests\": bulk_requests,\n",
    "    \"metric\": {\n",
    "    \"precision\": {\n",
    "      \"k\": 5,\n",
    "      \"relevant_rating_threshold\": 1,\n",
    "      \"ignore_unlabeled\": 'false'\n",
    "    }\n",
    "  }\n",
    "}\n",
    "# call ranking evaluation API with specific index and query\n",
    "model_score = es.rank_eval(index=index_, body=bulk_rank_body)\n",
    "precision = model_score['metric_score']\n",
    "print(\"IB precision: {}\".format(precision))"
   ]
  },
  {
   "cell_type": "code",
   "execution_count": 79,
   "metadata": {},
   "outputs": [
    {
     "name": "stdout",
     "output_type": "stream",
     "text": [
      "DFR mean reciprocal rank: 0.5813352454219327\n"
     ]
    }
   ],
   "source": [
    "# MEAN RECIPROCAL RANK\n",
    "index_ = 'est_ib'\n",
    "bulk_requests = get_requests(index_)\n",
    "bulk_rank_body = {\n",
    "  \"requests\": bulk_requests,\n",
    "    \"metric\": {\n",
    "        \"mean_reciprocal_rank\": {\n",
    "          \"k\": 20,\n",
    "          \"relevant_rating_threshold\": 1\n",
    "        }\n",
    "    }\n",
    "}\n",
    "# call ranking evaluation API with specific index and query\n",
    "mrr_score = es.rank_eval(index=index_, body=bulk_rank_body)\n",
    "print(\"DFR mean reciprocal rank: {}\".format(mrr_score['metric_score']))"
   ]
  }
 ],
 "metadata": {
  "kernelspec": {
   "display_name": "Python 3",
   "language": "python",
   "name": "python3"
  },
  "language_info": {
   "codemirror_mode": {
    "name": "ipython",
    "version": 3
   },
   "file_extension": ".py",
   "mimetype": "text/x-python",
   "name": "python",
   "nbconvert_exporter": "python",
   "pygments_lexer": "ipython3",
   "version": "3.7.4"
  }
 },
 "nbformat": 4,
 "nbformat_minor": 4
}
